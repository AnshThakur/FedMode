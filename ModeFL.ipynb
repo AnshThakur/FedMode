{
 "cells": [
  {
   "cell_type": "code",
   "execution_count": null,
   "metadata": {
    "executionInfo": {
     "elapsed": 2471,
     "status": "ok",
     "timestamp": 1723821564946,
     "user": {
      "displayName": "Anshul Thakur",
      "userId": "11719449395424920327"
     },
     "user_tz": -60
    },
    "id": "tc85aTuzwMJ0"
   },
   "outputs": [],
   "source": [
    "import numpy as np\n",
    "from torch import nn\n",
    "import torch\n",
    "from Model_IHM import *\n",
    "from data_loaders import *\n",
    "from utils import *\n",
    "import pandas as pd\n",
    "import warnings\n",
    "from Client import *\n",
    "from FL_Server import find_common_intersection,aggregate_models\n",
    "import random\n",
    "\n",
    "warnings.filterwarnings('ignore')\n",
    "\n",
    "random.seed(200)\n",
    "torch.manual_seed(200)\n",
    "np.random.seed(200)"
   ]
  },
  {
   "cell_type": "code",
   "execution_count": null,
   "metadata": {
    "colab": {
     "base_uri": "https://localhost:8080/"
    },
    "executionInfo": {
     "elapsed": 3814,
     "status": "ok",
     "timestamp": 1723821568755,
     "user": {
      "displayName": "Anshul Thakur",
      "userId": "11719449395424920327"
     },
     "user_tz": -60
    },
    "id": "KPh4bFMmwLdh",
    "outputId": "3ef7905d-1164-482e-9707-0e5e35ae8c75"
   },
   "outputs": [],
   "source": [
    "# Load data from sites and create data loaders\n",
    "num_clients = 5\n",
    "Loaders=create_non_iid_loaders('./physio_data/Data.npy', './physio_data/Labels.npy', num_clients)"
   ]
  },
  {
   "cell_type": "code",
   "execution_count": null,
   "metadata": {
    "colab": {
     "base_uri": "https://localhost:8080/"
    },
    "executionInfo": {
     "elapsed": 751,
     "status": "ok",
     "timestamp": 1723821569499,
     "user": {
      "displayName": "Anshul Thakur",
      "userId": "11719449395424920327"
     },
     "user_tz": -60
    },
    "id": "MvThT1IVwLdi",
    "outputId": "6ec51245-707d-4e0c-b4c5-16170f82b781"
   },
   "outputs": [],
   "source": [
    "device = get_device()\n",
    "print(f'Device: {device}')\n",
    "\n",
    "n_features = Loaders[0][0].dataset[0][0].shape[1]\n",
    "hidden=64\n",
    "global_model =  LSTMClassifier(n_features, hidden, device)\n",
    "global_model.to(device)\n",
    "\n",
    "\n",
    "criterion = nn.BCELoss().to(device)\n",
    "best=0\n",
    "print(global_model)\n",
    "global_model_params = [param.data.clone() for param in global_model.parameters()]\n"
   ]
  },
  {
   "cell_type": "code",
   "execution_count": null,
   "metadata": {
    "executionInfo": {
     "elapsed": 9,
     "status": "ok",
     "timestamp": 1723821569499,
     "user": {
      "displayName": "Anshul Thakur",
      "userId": "11719449395424920327"
     },
     "user_tz": -60
    },
    "id": "s785RiHdwLdj"
   },
   "outputs": [],
   "source": [
    "num_rounds = 10\n",
    "DF = [0]*num_clients\n",
    "\n",
    "# List for best val auc at each client\n",
    "Val_AUC = [0]*num_clients\n",
    "Val_APR = [0]*num_clients\n",
    "\n",
    "\n",
    "for h in range(0, num_clients):\n",
    "    DF[h] = pd.DataFrame(columns=['Train_Loss', 'Val_Loss', 'Val_AUC','Val_APR'])"
   ]
  },
  {
   "cell_type": "code",
   "execution_count": null,
   "metadata": {
    "colab": {
     "base_uri": "https://localhost:8080/"
    },
    "executionInfo": {
     "elapsed": 2125695,
     "status": "ok",
     "timestamp": 1723823695187,
     "user": {
      "displayName": "Anshul Thakur",
      "userId": "11719449395424920327"
     },
     "user_tz": -60
    },
    "id": "jcoMO4y_wLdk",
    "outputId": "d64c5085-ee47-40a8-e09a-199ba6758eb5"
   },
   "outputs": [],
   "source": [
    "    best=0\n",
    "    from tqdm import tqdm\n",
    "    for round_num in tqdm(range(num_rounds)):\n",
    "        # print(f\"Round {round_num + 1}/{num_rounds}\")\n",
    "\n",
    "        client_paths = []\n",
    "        client_losses = []\n",
    "\n",
    "        LOSS=[]\n",
    "        client_models=[]\n",
    "        for client_id in range(num_clients):\n",
    "            # print('----------------------------------------------------')\n",
    "            print(f\"Client {client_id + 1}/{num_clients}\")\n",
    "\n",
    "            low_loss_path, losses,TL,local_model=client_update(global_model_params, Loaders[client_id], criterion)\n",
    "\n",
    "            LOSS.append(TL)\n",
    "            client_paths.append(low_loss_path)\n",
    "            client_losses.append(losses)\n",
    "            client_models.append(local_model)\n",
    "\n",
    "\n",
    "        intersection_point = find_common_intersection(client_paths, client_losses,global_model_params)\n",
    "        global_model = aggregate_models(global_model, intersection_point)\n",
    "        global_model_params = [param.data.clone() for param in global_model.parameters()]\n",
    "\n",
    "\n",
    "        for k in range(0, num_clients):\n",
    "            local_model =client_models[k]\n",
    "            DF[k], Val_AUC[k],cur,cur_apr = evaluate_models(k, Loaders, local_model, criterion, device, DF[k], Val_AUC, LOSS[k],'FedMode')\n",
    "            print(f'Node : {k:.1f} || Train Loss {LOSS[k]:.3f} || Best Val AUC {Val_AUC[k]:.3f} || Current AUC {cur:.3f}|| Curr APR {cur_apr:.3f}')\n",
    "        print('=======================================')\n",
    "\n",
    "        AUC=0\n",
    "        for k in range(0, num_clients):\n",
    "            Vloss,cur,cur_apr = evaluate_models_test(k, Loaders, global_model, criterion, device)\n",
    "            AUC=AUC+cur\n",
    "\n",
    "        G=AUC/num_clients\n",
    "        if G>best:\n",
    "           torch.save(global_model, './trained_models/FedMode/global_model')\n",
    "           best=G\n",
    "\n"
   ]
  },
  {
   "cell_type": "code",
   "execution_count": null,
   "metadata": {
    "colab": {
     "base_uri": "https://localhost:8080/"
    },
    "executionInfo": {
     "elapsed": 3753,
     "status": "ok",
     "timestamp": 1723823698916,
     "user": {
      "displayName": "Anshul Thakur",
      "userId": "11719449395424920327"
     },
     "user_tz": -60
    },
    "id": "RkAjCAlXwLdl",
    "outputId": "dbb97a9d-be12-4f32-cc20-5bf0006c4a3a"
   },
   "outputs": [],
   "source": [
    "from utils import *\n",
    "sum_auc=0\n",
    "sum_apr=0\n",
    "\n",
    "for k in range(0,num_clients):\n",
    "    local_model=torch.load('./trained_models/FedMode/node'+str(k))\n",
    "    local_model.to(device)\n",
    "    val_loss, val_auc, val_apr = prediction_binary(local_model, Loaders[k][2], criterion, device)\n",
    "    sum_auc=sum_auc+val_auc\n",
    "    sum_apr=sum_apr+val_apr\n",
    "    print(f'Node : {k:.1f} || AUC {val_auc:.4f}|| APR {val_apr:.4f}')\n",
    "    print('=======================================')\n",
    "\n",
    "print(sum_auc/num_clients)\n",
    "print(sum_apr/num_clients)"
   ]
  },
  {
   "cell_type": "code",
   "execution_count": null,
   "metadata": {
    "colab": {
     "base_uri": "https://localhost:8080/"
    },
    "executionInfo": {
     "elapsed": 29,
     "status": "ok",
     "timestamp": 1723823698917,
     "user": {
      "displayName": "Anshul Thakur",
      "userId": "11719449395424920327"
     },
     "user_tz": -60
    },
    "id": "TaTmYl8CwLdm",
    "outputId": "7c30d87f-3844-4215-a518-db13a4283dbc"
   },
   "outputs": [],
   "source": [
    "from utils import *\n",
    "sum_auc=0\n",
    "sum_apr=0\n",
    "global_model=torch.load('./trained_models/FedMode/global_model')\n",
    "for k in range(0,num_clients):\n",
    "    val_loss, val_auc, val_apr = prediction_binary(global_model, Loaders[k][2], criterion, device)\n",
    "    sum_auc=sum_auc+val_auc\n",
    "    sum_apr=sum_apr+val_apr\n",
    "    print(f'Node : {k:.1f} || AUC {val_auc:.4f}|| APR {val_apr:.4f}')\n",
    "    print('=======================================')\n",
    "\n",
    "print(sum_auc/num_clients)\n",
    "print(sum_apr/num_clients)"
   ]
  }
 ],
 "metadata": {
  "accelerator": "GPU",
  "colab": {
   "gpuType": "T4",
   "provenance": []
  },
  "kernelspec": {
   "display_name": "pytorch",
   "language": "python",
   "name": "python3"
  },
  "language_info": {
   "codemirror_mode": {
    "name": "ipython",
    "version": 3
   },
   "file_extension": ".py",
   "mimetype": "text/x-python",
   "name": "python",
   "nbconvert_exporter": "python",
   "pygments_lexer": "ipython3",
   "version": "3.9.19"
  },
  "orig_nbformat": 4
 },
 "nbformat": 4,
 "nbformat_minor": 0
}
